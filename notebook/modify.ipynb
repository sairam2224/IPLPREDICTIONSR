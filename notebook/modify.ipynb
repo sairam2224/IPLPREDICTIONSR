{
 "cells": [
  {
   "cell_type": "code",
   "execution_count": 41,
   "metadata": {},
   "outputs": [],
   "source": [
    "import numpy as np\n",
    "import pandas as pd\n",
    "import seaborn as sns\n",
    "import matplotlib.pyplot as plt\n",
    "%matplotlib inline\n",
    "import warnings\n",
    "warnings.filterwarnings('ignore')\n",
    "import os"
   ]
  },
  {
   "cell_type": "code",
   "execution_count": 42,
   "metadata": {},
   "outputs": [],
   "source": [
    "teams=pd.read_csv('data/Player_matches.csv')"
   ]
  },
  {
   "cell_type": "code",
   "execution_count": 43,
   "metadata": {},
   "outputs": [],
   "source": [
    "teams['pscore'] = 0\n"
   ]
  },
  {
   "cell_type": "code",
   "execution_count": 49,
   "metadata": {},
   "outputs": [],
   "source": [
    "teams.drop(['Player_keeper','Opposit_captain','Player_Captain','Bowling_Status','Batting_Status'\n",
    "            ,'Age_As_on_match','Season_year','Country_Name','Bowling_skill','Batting_hand','DOB','Player_Id','PlayerMatch_key','Player_match_SK',\"\"],axis=1,inplace=True)"
   ]
  },
  {
   "cell_type": "code",
   "execution_count": 61,
   "metadata": {},
   "outputs": [],
   "source": [
    "teams.loc[teams['is_manofThematch'] == 'TRUE', 'pscore'] += 2\n",
    "teams.loc[teams['Role_Desc'] == 'Captain','pscore'] += 2"
   ]
  },
  {
   "cell_type": "code",
   "execution_count": 51,
   "metadata": {},
   "outputs": [],
   "source": [
    "match=pd.read_csv('data/Match.csv')\n",
    "teams.rename(columns = {'Match_Id':'match_id'}, inplace = True)\n"
   ]
  },
  {
   "cell_type": "code",
   "execution_count": 52,
   "metadata": {},
   "outputs": [],
   "source": [
    "teams = pd.merge(teams, match[['match_id', 'City_Name']], on='match_id', how='left')"
   ]
  },
  {
   "cell_type": "code",
   "execution_count": 53,
   "metadata": {},
   "outputs": [],
   "source": [
    "teams=teams.replace({'City_Name' : { 'Chennai' : 'Chennai Super Kings', 'Bangalore' : 'Royal Challengers Bangalore', 'Hyderabad' : 'Deccan Chargers' ,\n",
    "                             'Jaipur' : 'Rajasthan Royals' , 'Kolkata' : 'Kolkata Knight Riders' , 'Mumbai' : 'Mumbai Indians',\n",
    "                             'Delhi' : 'Delhi Daredevils' , 'Chandigarh' : 'Kings XI Punjab' ,'Ahmedabad':'Rajasthan Royals',\n",
    "                             'Bengaluru' : 'Royal Challengers Bangalore','Bloemfontein' : 'Delhi Daredevils',}})"
   ]
  },
  {
   "cell_type": "code",
   "execution_count": 60,
   "metadata": {},
   "outputs": [],
   "source": [
    "teams.loc[teams['Player_team'] == teams['City_Name'],'pscore'] += 1"
   ]
  },
  {
   "cell_type": "code",
   "execution_count": 64,
   "metadata": {},
   "outputs": [],
   "source": [
    "teams['pscore'] = teams['pscore'].astype(int)\n"
   ]
  },
  {
   "cell_type": "code",
   "execution_count": 77,
   "metadata": {},
   "outputs": [],
   "source": [
    "modify_data_path: str=os.path.join('mdfn',\"modified.csv\")\n"
   ]
  },
  {
   "cell_type": "code",
   "execution_count": 78,
   "metadata": {},
   "outputs": [],
   "source": [
    "teams.to_csv(modify_data_path,index=False,header=True)\n"
   ]
  },
  {
   "cell_type": "code",
   "execution_count": 67,
   "metadata": {},
   "outputs": [
    {
     "data": {
      "text/plain": [
       "0        4\n",
       "1        1\n",
       "2        1\n",
       "3        1\n",
       "4        1\n",
       "        ..\n",
       "13987    0\n",
       "13988    0\n",
       "13989    0\n",
       "13990    0\n",
       "13991    0\n",
       "Name: pscore, Length: 13992, dtype: int32"
      ]
     },
     "execution_count": 67,
     "metadata": {},
     "output_type": "execute_result"
    }
   ],
   "source": [
    "teams['pscore']"
   ]
  },
  {
   "cell_type": "code",
   "execution_count": 68,
   "metadata": {},
   "outputs": [],
   "source": [
    "teams = pd.merge(teams, match[['match_id', 'Team1']], on='match_id', how='left')"
   ]
  },
  {
   "cell_type": "code",
   "execution_count": 70,
   "metadata": {},
   "outputs": [],
   "source": [
    "del teams['City_Name']"
   ]
  },
  {
   "cell_type": "code",
   "execution_count": 71,
   "metadata": {},
   "outputs": [],
   "source": [
    "teams.rename(columns={'Team1': 'City_Name'}, inplace=True)\n"
   ]
  },
  {
   "cell_type": "code",
   "execution_count": 74,
   "metadata": {},
   "outputs": [
    {
     "data": {
      "text/plain": [
       "(13992, 8)"
      ]
     },
     "execution_count": 74,
     "metadata": {},
     "output_type": "execute_result"
    }
   ],
   "source": [
    "teams.shape"
   ]
  },
  {
   "cell_type": "code",
   "execution_count": 75,
   "metadata": {},
   "outputs": [
    {
     "name": "stdout",
     "output_type": "stream",
     "text": [
      "<class 'pandas.core.frame.DataFrame'>\n",
      "RangeIndex: 13992 entries, 0 to 13991\n",
      "Data columns (total 8 columns):\n",
      " #   Column            Non-Null Count  Dtype \n",
      "---  ------            --------------  ----- \n",
      " 0   match_id          13992 non-null  int64 \n",
      " 1   Player_Name       13992 non-null  object\n",
      " 2   Role_Desc         13992 non-null  object\n",
      " 3   Player_team       13992 non-null  object\n",
      " 4   Opposit_Team      13992 non-null  object\n",
      " 5   is_manofThematch  13992 non-null  bool  \n",
      " 6   pscore            13992 non-null  int32 \n",
      " 7   City_Name         13992 non-null  object\n",
      "dtypes: bool(1), int32(1), int64(1), object(5)\n",
      "memory usage: 724.3+ KB\n"
     ]
    }
   ],
   "source": [
    "teams.info()"
   ]
  },
  {
   "cell_type": "code",
   "execution_count": 76,
   "metadata": {},
   "outputs": [],
   "source": [
    "del teams['match_id']"
   ]
  },
  {
   "cell_type": "code",
   "execution_count": 84,
   "metadata": {},
   "outputs": [
    {
     "data": {
      "text/html": [
       "<div>\n",
       "<style scoped>\n",
       "    .dataframe tbody tr th:only-of-type {\n",
       "        vertical-align: middle;\n",
       "    }\n",
       "\n",
       "    .dataframe tbody tr th {\n",
       "        vertical-align: top;\n",
       "    }\n",
       "\n",
       "    .dataframe thead th {\n",
       "        text-align: right;\n",
       "    }\n",
       "</style>\n",
       "<table border=\"1\" class=\"dataframe\">\n",
       "  <thead>\n",
       "    <tr style=\"text-align: right;\">\n",
       "      <th></th>\n",
       "      <th>Player_Name</th>\n",
       "      <th>Role_Desc</th>\n",
       "      <th>Player_team</th>\n",
       "      <th>Opposit_Team</th>\n",
       "      <th>is_manofThematch</th>\n",
       "      <th>City_Name</th>\n",
       "      <th>pscore</th>\n",
       "    </tr>\n",
       "  </thead>\n",
       "  <tbody>\n",
       "    <tr>\n",
       "      <th>0</th>\n",
       "      <td>R Dravid</td>\n",
       "      <td>Captain</td>\n",
       "      <td>Royal Challengers Bangalore</td>\n",
       "      <td>Kolkata Knight Riders</td>\n",
       "      <td>False</td>\n",
       "      <td>Royal Challengers Bangalore</td>\n",
       "      <td>4</td>\n",
       "    </tr>\n",
       "    <tr>\n",
       "      <th>1</th>\n",
       "      <td>W Jaffer</td>\n",
       "      <td>Player</td>\n",
       "      <td>Royal Challengers Bangalore</td>\n",
       "      <td>Kolkata Knight Riders</td>\n",
       "      <td>False</td>\n",
       "      <td>Royal Challengers Bangalore</td>\n",
       "      <td>1</td>\n",
       "    </tr>\n",
       "    <tr>\n",
       "      <th>2</th>\n",
       "      <td>V Kohli</td>\n",
       "      <td>Player</td>\n",
       "      <td>Royal Challengers Bangalore</td>\n",
       "      <td>Kolkata Knight Riders</td>\n",
       "      <td>False</td>\n",
       "      <td>Royal Challengers Bangalore</td>\n",
       "      <td>1</td>\n",
       "    </tr>\n",
       "    <tr>\n",
       "      <th>3</th>\n",
       "      <td>JH Kallis</td>\n",
       "      <td>Player</td>\n",
       "      <td>Royal Challengers Bangalore</td>\n",
       "      <td>Kolkata Knight Riders</td>\n",
       "      <td>False</td>\n",
       "      <td>Royal Challengers Bangalore</td>\n",
       "      <td>1</td>\n",
       "    </tr>\n",
       "    <tr>\n",
       "      <th>4</th>\n",
       "      <td>CL White</td>\n",
       "      <td>Player</td>\n",
       "      <td>Royal Challengers Bangalore</td>\n",
       "      <td>Kolkata Knight Riders</td>\n",
       "      <td>False</td>\n",
       "      <td>Royal Challengers Bangalore</td>\n",
       "      <td>1</td>\n",
       "    </tr>\n",
       "    <tr>\n",
       "      <th>...</th>\n",
       "      <td>...</td>\n",
       "      <td>...</td>\n",
       "      <td>...</td>\n",
       "      <td>...</td>\n",
       "      <td>...</td>\n",
       "      <td>...</td>\n",
       "      <td>...</td>\n",
       "    </tr>\n",
       "    <tr>\n",
       "      <th>13987</th>\n",
       "      <td>KH Pandya</td>\n",
       "      <td>Player</td>\n",
       "      <td>Mumbai Indians</td>\n",
       "      <td>Rising Pune Supergiants</td>\n",
       "      <td>True</td>\n",
       "      <td>Mumbai Indians</td>\n",
       "      <td>0</td>\n",
       "    </tr>\n",
       "    <tr>\n",
       "      <th>13988</th>\n",
       "      <td>A Zampa</td>\n",
       "      <td>Player</td>\n",
       "      <td>Rising Pune Supergiants</td>\n",
       "      <td>Mumbai Indians</td>\n",
       "      <td>False</td>\n",
       "      <td>Mumbai Indians</td>\n",
       "      <td>0</td>\n",
       "    </tr>\n",
       "    <tr>\n",
       "      <th>13989</th>\n",
       "      <td>LH Ferguson</td>\n",
       "      <td>Player</td>\n",
       "      <td>Rising Pune Supergiants</td>\n",
       "      <td>Mumbai Indians</td>\n",
       "      <td>False</td>\n",
       "      <td>Mumbai Indians</td>\n",
       "      <td>0</td>\n",
       "    </tr>\n",
       "    <tr>\n",
       "      <th>13990</th>\n",
       "      <td>RA Tripathi</td>\n",
       "      <td>Player</td>\n",
       "      <td>Rising Pune Supergiants</td>\n",
       "      <td>Mumbai Indians</td>\n",
       "      <td>False</td>\n",
       "      <td>Mumbai Indians</td>\n",
       "      <td>0</td>\n",
       "    </tr>\n",
       "    <tr>\n",
       "      <th>13991</th>\n",
       "      <td>Washington Sundar</td>\n",
       "      <td>Player</td>\n",
       "      <td>Rising Pune Supergiants</td>\n",
       "      <td>Mumbai Indians</td>\n",
       "      <td>False</td>\n",
       "      <td>Mumbai Indians</td>\n",
       "      <td>0</td>\n",
       "    </tr>\n",
       "  </tbody>\n",
       "</table>\n",
       "<p>13992 rows × 7 columns</p>\n",
       "</div>"
      ],
      "text/plain": [
       "             Player_Name Role_Desc                  Player_team   \n",
       "0               R Dravid   Captain  Royal Challengers Bangalore  \\\n",
       "1               W Jaffer    Player  Royal Challengers Bangalore   \n",
       "2                V Kohli    Player  Royal Challengers Bangalore   \n",
       "3              JH Kallis    Player  Royal Challengers Bangalore   \n",
       "4               CL White    Player  Royal Challengers Bangalore   \n",
       "...                  ...       ...                          ...   \n",
       "13987          KH Pandya    Player               Mumbai Indians   \n",
       "13988            A Zampa    Player      Rising Pune Supergiants   \n",
       "13989        LH Ferguson    Player      Rising Pune Supergiants   \n",
       "13990        RA Tripathi    Player      Rising Pune Supergiants   \n",
       "13991  Washington Sundar    Player      Rising Pune Supergiants   \n",
       "\n",
       "                  Opposit_Team  is_manofThematch                    City_Name   \n",
       "0        Kolkata Knight Riders             False  Royal Challengers Bangalore  \\\n",
       "1        Kolkata Knight Riders             False  Royal Challengers Bangalore   \n",
       "2        Kolkata Knight Riders             False  Royal Challengers Bangalore   \n",
       "3        Kolkata Knight Riders             False  Royal Challengers Bangalore   \n",
       "4        Kolkata Knight Riders             False  Royal Challengers Bangalore   \n",
       "...                        ...               ...                          ...   \n",
       "13987  Rising Pune Supergiants              True               Mumbai Indians   \n",
       "13988           Mumbai Indians             False               Mumbai Indians   \n",
       "13989           Mumbai Indians             False               Mumbai Indians   \n",
       "13990           Mumbai Indians             False               Mumbai Indians   \n",
       "13991           Mumbai Indians             False               Mumbai Indians   \n",
       "\n",
       "       pscore  \n",
       "0           4  \n",
       "1           1  \n",
       "2           1  \n",
       "3           1  \n",
       "4           1  \n",
       "...       ...  \n",
       "13987       0  \n",
       "13988       0  \n",
       "13989       0  \n",
       "13990       0  \n",
       "13991       0  \n",
       "\n",
       "[13992 rows x 7 columns]"
      ]
     },
     "execution_count": 84,
     "metadata": {},
     "output_type": "execute_result"
    }
   ],
   "source": [
    "teams.iloc[:,[0,1,2,3,4,6,5]]\n"
   ]
  },
  {
   "cell_type": "code",
   "execution_count": 81,
   "metadata": {},
   "outputs": [
    {
     "name": "stdout",
     "output_type": "stream",
     "text": [
      "<class 'pandas.core.frame.DataFrame'>\n",
      "RangeIndex: 13992 entries, 0 to 13991\n",
      "Data columns (total 7 columns):\n",
      " #   Column            Non-Null Count  Dtype \n",
      "---  ------            --------------  ----- \n",
      " 0   Player_Name       13992 non-null  object\n",
      " 1   Role_Desc         13992 non-null  object\n",
      " 2   Player_team       13992 non-null  object\n",
      " 3   Opposit_Team      13992 non-null  object\n",
      " 4   is_manofThematch  13992 non-null  bool  \n",
      " 5   pscore            13992 non-null  int32 \n",
      " 6   City_Name         13992 non-null  object\n",
      "dtypes: bool(1), int32(1), object(5)\n",
      "memory usage: 615.0+ KB\n"
     ]
    }
   ],
   "source": [
    "teams.info()"
   ]
  },
  {
   "cell_type": "code",
   "execution_count": 87,
   "metadata": {},
   "outputs": [],
   "source": [
    "# Count the number of occurrences of each player name in the 'player_name' column\n",
    "player_counts = teams['Player_Name'].value_counts()\n",
    "\n",
    "# Identify the player names that appear less than 20 times\n",
    "names_to_delete = player_counts[player_counts < 20].index.tolist()\n",
    "\n",
    "# Delete the rows corresponding to the identified player names\n",
    "teams = teams[~teams['Player_Name'].isin(names_to_delete)]"
   ]
  },
  {
   "cell_type": "code",
   "execution_count": 89,
   "metadata": {},
   "outputs": [],
   "source": [
    "teams.to_csv(modify_data_path,index=False,header=True)"
   ]
  },
  {
   "cell_type": "code",
   "execution_count": 88,
   "metadata": {},
   "outputs": [],
   "source": [
    "modify_data_path: str=os.path.join('mdfn',\"modified.csv\")"
   ]
  },
  {
   "cell_type": "code",
   "execution_count": null,
   "metadata": {},
   "outputs": [],
   "source": []
  }
 ],
 "metadata": {
  "kernelspec": {
   "display_name": "Python 3",
   "language": "python",
   "name": "python3"
  },
  "language_info": {
   "codemirror_mode": {
    "name": "ipython",
    "version": 3
   },
   "file_extension": ".py",
   "mimetype": "text/x-python",
   "name": "python",
   "nbconvert_exporter": "python",
   "pygments_lexer": "ipython3",
   "version": "3.8.0"
  },
  "orig_nbformat": 4
 },
 "nbformat": 4,
 "nbformat_minor": 2
}
